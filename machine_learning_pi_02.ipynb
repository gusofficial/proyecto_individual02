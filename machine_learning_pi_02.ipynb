{
 "cells": [
  {
   "cell_type": "markdown",
   "metadata": {},
   "source": [
    "# Proyecto Individual 02: Machine Learning"
   ]
  },
  {
   "cell_type": "markdown",
   "metadata": {},
   "source": [
    "## EDA\n",
    "\n",
    "En esta primera etapa se realizará un análisis exploratorio de los datos "
   ]
  },
  {
   "cell_type": "code",
   "execution_count": 425,
   "metadata": {},
   "outputs": [],
   "source": [
    "# Importando las librerias \n",
    "import pandas as pd\n",
    "import seaborn as sns\n",
    "import numpy as np\n",
    "import matplotlib.pyplot as plt\n",
    "from shapely.geometry import Point\n",
    "import geopandas as gpd\n",
    "from geopandas import GeoDataFrame\n",
    "from sklearn.cluster import KMeans"
   ]
  },
  {
   "cell_type": "code",
   "execution_count": 426,
   "metadata": {},
   "outputs": [
    {
     "data": {
      "text/html": [
       "<div>\n",
       "<style scoped>\n",
       "    .dataframe tbody tr th:only-of-type {\n",
       "        vertical-align: middle;\n",
       "    }\n",
       "\n",
       "    .dataframe tbody tr th {\n",
       "        vertical-align: top;\n",
       "    }\n",
       "\n",
       "    .dataframe thead th {\n",
       "        text-align: right;\n",
       "    }\n",
       "</style>\n",
       "<table border=\"1\" class=\"dataframe\">\n",
       "  <thead>\n",
       "    <tr style=\"text-align: right;\">\n",
       "      <th></th>\n",
       "      <th>Unnamed: 0</th>\n",
       "      <th>id</th>\n",
       "      <th>ad_type</th>\n",
       "      <th>start_date</th>\n",
       "      <th>end_date</th>\n",
       "      <th>created_on</th>\n",
       "      <th>lat</th>\n",
       "      <th>lon</th>\n",
       "      <th>l1</th>\n",
       "      <th>l2</th>\n",
       "      <th>...</th>\n",
       "      <th>surface_total</th>\n",
       "      <th>surface_covered</th>\n",
       "      <th>price</th>\n",
       "      <th>currency</th>\n",
       "      <th>price_period</th>\n",
       "      <th>title</th>\n",
       "      <th>description</th>\n",
       "      <th>property_type</th>\n",
       "      <th>operation_type</th>\n",
       "      <th>geometry</th>\n",
       "    </tr>\n",
       "  </thead>\n",
       "  <tbody>\n",
       "    <tr>\n",
       "      <th>0</th>\n",
       "      <td>861131</td>\n",
       "      <td>CScTjaFiP6yCzS8tFX0ZVA==</td>\n",
       "      <td>Propiedad</td>\n",
       "      <td>2020-12-14</td>\n",
       "      <td>9999-12-31</td>\n",
       "      <td>2020-12-14</td>\n",
       "      <td>6.203000</td>\n",
       "      <td>-75.572000</td>\n",
       "      <td>Colombia</td>\n",
       "      <td>Antioquia</td>\n",
       "      <td>...</td>\n",
       "      <td>NaN</td>\n",
       "      <td>NaN</td>\n",
       "      <td>9.000000e+09</td>\n",
       "      <td>COP</td>\n",
       "      <td>NaN</td>\n",
       "      <td>Hermosa Mansión En El Poblado. Área Construida...</td>\n",
       "      <td>&lt;b&gt;Hermosa Mansión En El Poblado. Área Constru...</td>\n",
       "      <td>Casa</td>\n",
       "      <td>Venta</td>\n",
       "      <td>POINT (-75.572 6.203)</td>\n",
       "    </tr>\n",
       "    <tr>\n",
       "      <th>1</th>\n",
       "      <td>200972</td>\n",
       "      <td>DlCxox9+FuugkxS2kBVfJg==</td>\n",
       "      <td>Propiedad</td>\n",
       "      <td>2020-09-16</td>\n",
       "      <td>2021-05-14</td>\n",
       "      <td>2020-09-16</td>\n",
       "      <td>4.722748</td>\n",
       "      <td>-74.073115</td>\n",
       "      <td>Colombia</td>\n",
       "      <td>Cundinamarca</td>\n",
       "      <td>...</td>\n",
       "      <td>NaN</td>\n",
       "      <td>NaN</td>\n",
       "      <td>6.250000e+08</td>\n",
       "      <td>COP</td>\n",
       "      <td>NaN</td>\n",
       "      <td>APARTAMENTO EN VENTA, BOGOTA-CIUDAD JARDIN NORTE</td>\n",
       "      <td>Venta apartamento en piso 16 con vista exterio...</td>\n",
       "      <td>Apartamento</td>\n",
       "      <td>Venta</td>\n",
       "      <td>POINT (-74.0731146 4.7227485)</td>\n",
       "    </tr>\n",
       "    <tr>\n",
       "      <th>2</th>\n",
       "      <td>554622</td>\n",
       "      <td>yitN1AigL45gh/K2YSF8rw==</td>\n",
       "      <td>Propiedad</td>\n",
       "      <td>2020-08-19</td>\n",
       "      <td>2020-08-20</td>\n",
       "      <td>2020-08-19</td>\n",
       "      <td>4.709000</td>\n",
       "      <td>-74.030000</td>\n",
       "      <td>Colombia</td>\n",
       "      <td>Cundinamarca</td>\n",
       "      <td>...</td>\n",
       "      <td>NaN</td>\n",
       "      <td>NaN</td>\n",
       "      <td>4.200000e+08</td>\n",
       "      <td>COP</td>\n",
       "      <td>NaN</td>\n",
       "      <td>Apartamento En Venta En Bogota Bella Suiza Cod...</td>\n",
       "      <td>Al entrar a este bonito apartamento interior e...</td>\n",
       "      <td>Casa</td>\n",
       "      <td>Venta</td>\n",
       "      <td>POINT (-74.03 4.709)</td>\n",
       "    </tr>\n",
       "    <tr>\n",
       "      <th>3</th>\n",
       "      <td>540321</td>\n",
       "      <td>hELQ9njwODbLMpATXieRdQ==</td>\n",
       "      <td>Propiedad</td>\n",
       "      <td>2020-11-23</td>\n",
       "      <td>2020-11-30</td>\n",
       "      <td>2020-11-23</td>\n",
       "      <td>NaN</td>\n",
       "      <td>NaN</td>\n",
       "      <td>Colombia</td>\n",
       "      <td>Santander</td>\n",
       "      <td>...</td>\n",
       "      <td>NaN</td>\n",
       "      <td>NaN</td>\n",
       "      <td>1.310000e+09</td>\n",
       "      <td>COP</td>\n",
       "      <td>NaN</td>\n",
       "      <td>SE VENDE LOCAL COMERCIAL EN CABECERA DEL LLANO...</td>\n",
       "      <td>Se encuentra ubicado en el sector de la Cabece...</td>\n",
       "      <td>Otro</td>\n",
       "      <td>Venta</td>\n",
       "      <td>POINT EMPTY</td>\n",
       "    </tr>\n",
       "    <tr>\n",
       "      <th>4</th>\n",
       "      <td>448920</td>\n",
       "      <td>aBCtKT7LDzt2CxJQ+gVFEA==</td>\n",
       "      <td>Propiedad</td>\n",
       "      <td>2020-10-06</td>\n",
       "      <td>2020-10-07</td>\n",
       "      <td>2020-10-06</td>\n",
       "      <td>NaN</td>\n",
       "      <td>NaN</td>\n",
       "      <td>Colombia</td>\n",
       "      <td>Antioquia</td>\n",
       "      <td>...</td>\n",
       "      <td>NaN</td>\n",
       "      <td>NaN</td>\n",
       "      <td>2.100000e+08</td>\n",
       "      <td>COP</td>\n",
       "      <td>NaN</td>\n",
       "      <td>Apartamento en Venta Ubicado en ITAGUI</td>\n",
       "      <td>Codigo Inmueble 4302 Apartamento con 3 habitac...</td>\n",
       "      <td>Apartamento</td>\n",
       "      <td>Venta</td>\n",
       "      <td>POINT EMPTY</td>\n",
       "    </tr>\n",
       "  </tbody>\n",
       "</table>\n",
       "<p>5 rows × 27 columns</p>\n",
       "</div>"
      ],
      "text/plain": [
       "   Unnamed: 0                        id    ad_type  start_date    end_date  \\\n",
       "0      861131  CScTjaFiP6yCzS8tFX0ZVA==  Propiedad  2020-12-14  9999-12-31   \n",
       "1      200972  DlCxox9+FuugkxS2kBVfJg==  Propiedad  2020-09-16  2021-05-14   \n",
       "2      554622  yitN1AigL45gh/K2YSF8rw==  Propiedad  2020-08-19  2020-08-20   \n",
       "3      540321  hELQ9njwODbLMpATXieRdQ==  Propiedad  2020-11-23  2020-11-30   \n",
       "4      448920  aBCtKT7LDzt2CxJQ+gVFEA==  Propiedad  2020-10-06  2020-10-07   \n",
       "\n",
       "   created_on       lat        lon        l1            l2  ... surface_total  \\\n",
       "0  2020-12-14  6.203000 -75.572000  Colombia     Antioquia  ...           NaN   \n",
       "1  2020-09-16  4.722748 -74.073115  Colombia  Cundinamarca  ...           NaN   \n",
       "2  2020-08-19  4.709000 -74.030000  Colombia  Cundinamarca  ...           NaN   \n",
       "3  2020-11-23       NaN        NaN  Colombia     Santander  ...           NaN   \n",
       "4  2020-10-06       NaN        NaN  Colombia     Antioquia  ...           NaN   \n",
       "\n",
       "  surface_covered         price currency  price_period  \\\n",
       "0             NaN  9.000000e+09      COP           NaN   \n",
       "1             NaN  6.250000e+08      COP           NaN   \n",
       "2             NaN  4.200000e+08      COP           NaN   \n",
       "3             NaN  1.310000e+09      COP           NaN   \n",
       "4             NaN  2.100000e+08      COP           NaN   \n",
       "\n",
       "                                               title  \\\n",
       "0  Hermosa Mansión En El Poblado. Área Construida...   \n",
       "1   APARTAMENTO EN VENTA, BOGOTA-CIUDAD JARDIN NORTE   \n",
       "2  Apartamento En Venta En Bogota Bella Suiza Cod...   \n",
       "3  SE VENDE LOCAL COMERCIAL EN CABECERA DEL LLANO...   \n",
       "4             Apartamento en Venta Ubicado en ITAGUI   \n",
       "\n",
       "                                         description  property_type  \\\n",
       "0  <b>Hermosa Mansión En El Poblado. Área Constru...           Casa   \n",
       "1  Venta apartamento en piso 16 con vista exterio...    Apartamento   \n",
       "2  Al entrar a este bonito apartamento interior e...           Casa   \n",
       "3  Se encuentra ubicado en el sector de la Cabece...           Otro   \n",
       "4  Codigo Inmueble 4302 Apartamento con 3 habitac...    Apartamento   \n",
       "\n",
       "   operation_type                       geometry  \n",
       "0           Venta          POINT (-75.572 6.203)  \n",
       "1           Venta  POINT (-74.0731146 4.7227485)  \n",
       "2           Venta           POINT (-74.03 4.709)  \n",
       "3           Venta                    POINT EMPTY  \n",
       "4           Venta                    POINT EMPTY  \n",
       "\n",
       "[5 rows x 27 columns]"
      ]
     },
     "execution_count": 426,
     "metadata": {},
     "output_type": "execute_result"
    }
   ],
   "source": [
    "# Creamos un dataframe con los datos de entrenamiento\n",
    "X = pd.read_csv('datasets\\properties_colombia_train.csv')\n",
    "X.head()"
   ]
  },
  {
   "cell_type": "markdown",
   "metadata": {},
   "source": [
    "Podemos observar las columnas que componen el dataset. En principio las las columnas Unnamed: 0 y id parecen ser identificadores de los anuncios. Estas columnas puedes ser descartadas ya que no proporcionan (aparentemente) información para nuestro modelo. Las demás columnas parece contener información útil para el modelo. Tendremos que evaluarlas más a fondo."
   ]
  },
  {
   "cell_type": "code",
   "execution_count": 427,
   "metadata": {},
   "outputs": [
    {
     "name": "stdout",
     "output_type": "stream",
     "text": [
      "<class 'pandas.core.frame.DataFrame'>\n",
      "RangeIndex: 197549 entries, 0 to 197548\n",
      "Data columns (total 27 columns):\n",
      " #   Column           Non-Null Count   Dtype  \n",
      "---  ------           --------------   -----  \n",
      " 0   Unnamed: 0       197549 non-null  int64  \n",
      " 1   id               197549 non-null  object \n",
      " 2   ad_type          197549 non-null  object \n",
      " 3   start_date       197549 non-null  object \n",
      " 4   end_date         197549 non-null  object \n",
      " 5   created_on       197549 non-null  object \n",
      " 6   lat              148051 non-null  float64\n",
      " 7   lon              148051 non-null  float64\n",
      " 8   l1               197549 non-null  object \n",
      " 9   l2               197549 non-null  object \n",
      " 10  l3               186517 non-null  object \n",
      " 11  l4               45367 non-null   object \n",
      " 12  l5               27409 non-null   object \n",
      " 13  l6               6867 non-null    object \n",
      " 14  rooms            27537 non-null   float64\n",
      " 15  bedrooms         40525 non-null   float64\n",
      " 16  bathrooms        156467 non-null  float64\n",
      " 17  surface_total    6974 non-null    float64\n",
      " 18  surface_covered  9802 non-null    float64\n",
      " 19  price            197486 non-null  float64\n",
      " 20  currency         197482 non-null  object \n",
      " 21  price_period     35971 non-null   object \n",
      " 22  title            197548 non-null  object \n",
      " 23  description      197428 non-null  object \n",
      " 24  property_type    197549 non-null  object \n",
      " 25  operation_type   197549 non-null  object \n",
      " 26  geometry         197549 non-null  object \n",
      "dtypes: float64(8), int64(1), object(18)\n",
      "memory usage: 40.7+ MB\n"
     ]
    }
   ],
   "source": [
    "X.info()"
   ]
  },
  {
   "cell_type": "markdown",
   "metadata": {},
   "source": [
    "Podemos ver que las columnas l4, l5, l6, room, bedrooms, surface_total, surface_covered poseen una cantidad considerable de valores nulos."
   ]
  },
  {
   "cell_type": "markdown",
   "metadata": {},
   "source": [
    "La columna geometry posee los valores de longitud y latitud unidos en una misma variable. Se puede considerar descartarla."
   ]
  },
  {
   "cell_type": "markdown",
   "metadata": {},
   "source": [
    "Las columnas created_on y start_date parecen poseer los mismos valores. Vamos a comprobarlo:"
   ]
  },
  {
   "cell_type": "code",
   "execution_count": 428,
   "metadata": {},
   "outputs": [
    {
     "data": {
      "text/plain": [
       "0"
      ]
     },
     "execution_count": 428,
     "metadata": {},
     "output_type": "execute_result"
    }
   ],
   "source": [
    "# Verificando si la columna created_on y start_date poseen los mismos valores\n",
    "(X.created_on != X.start_date).sum()"
   ]
  },
  {
   "cell_type": "markdown",
   "metadata": {},
   "source": [
    "Efectivamente los valores son iguales. Se puede considerar descartar alguna de ellas."
   ]
  },
  {
   "cell_type": "markdown",
   "metadata": {},
   "source": [
    "Vamos a revisar los valores únicos de cada columna."
   ]
  },
  {
   "cell_type": "code",
   "execution_count": 429,
   "metadata": {},
   "outputs": [
    {
     "data": {
      "text/plain": [
       "Unnamed: 0         197549\n",
       "id                 197549\n",
       "ad_type                 1\n",
       "start_date            145\n",
       "end_date              446\n",
       "created_on            145\n",
       "lat                 51077\n",
       "lon                 50108\n",
       "l1                      1\n",
       "l2                     31\n",
       "l3                    293\n",
       "l4                     58\n",
       "l5                     20\n",
       "l6                    146\n",
       "rooms                  29\n",
       "bedrooms               37\n",
       "bathrooms              20\n",
       "surface_total        1035\n",
       "surface_covered       783\n",
       "price                6096\n",
       "currency                2\n",
       "price_period            1\n",
       "title               95025\n",
       "description        111371\n",
       "property_type           8\n",
       "operation_type          1\n",
       "geometry            62807\n",
       "dtype: int64"
      ]
     },
     "execution_count": 429,
     "metadata": {},
     "output_type": "execute_result"
    }
   ],
   "source": [
    "# Valores unicos\n",
    "X.nunique()"
   ]
  },
  {
   "cell_type": "markdown",
   "metadata": {},
   "source": [
    "Podemos ver que las columnas Unnamed 0: y id contiene enteramente valores únicos. Estas columnas podemos descartarlas. También podemos apreciar columnas como ad_type, l1, price_period y operation_type con un solo valor."
   ]
  },
  {
   "cell_type": "code",
   "execution_count": 430,
   "metadata": {},
   "outputs": [
    {
     "name": "stdout",
     "output_type": "stream",
     "text": [
      "['Venta']\n",
      "[nan 'Mensual']\n",
      "['Propiedad']\n",
      "['Colombia']\n"
     ]
    }
   ],
   "source": [
    "print(X.operation_type.unique())\n",
    "print(X.price_period.unique())\n",
    "print(X.ad_type.unique())\n",
    "print(X.l1.unique())"
   ]
  },
  {
   "cell_type": "markdown",
   "metadata": {},
   "source": [
    "Son columnas que podemos descartar."
   ]
  },
  {
   "cell_type": "code",
   "execution_count": 431,
   "metadata": {},
   "outputs": [
    {
     "name": "stdout",
     "output_type": "stream",
     "text": [
      "['COP' nan 'USD']\n"
     ]
    }
   ],
   "source": [
    "print(X.currency.unique())"
   ]
  },
  {
   "cell_type": "markdown",
   "metadata": {},
   "source": [
    "Podemos ver que tenemos precios publicados en dólares estadounidenses y pesos colombianos. Es necesario normalizar los datos a una sola moneda. Más adelante realizaremos esta conversión. "
   ]
  },
  {
   "cell_type": "markdown",
   "metadata": {},
   "source": [
    "Eliminaremos las columnas que no proporcionan información útil:"
   ]
  },
  {
   "cell_type": "code",
   "execution_count": 432,
   "metadata": {},
   "outputs": [],
   "source": [
    "# Eliminando columnas\n",
    "X.drop(['Unnamed: 0', 'id', 'ad_type', 'l1', 'price_period', 'operation_type', 'created_on', 'geometry'], axis='columns', inplace=True)"
   ]
  },
  {
   "cell_type": "code",
   "execution_count": 433,
   "metadata": {},
   "outputs": [
    {
     "data": {
      "text/html": [
       "<div>\n",
       "<style scoped>\n",
       "    .dataframe tbody tr th:only-of-type {\n",
       "        vertical-align: middle;\n",
       "    }\n",
       "\n",
       "    .dataframe tbody tr th {\n",
       "        vertical-align: top;\n",
       "    }\n",
       "\n",
       "    .dataframe thead th {\n",
       "        text-align: right;\n",
       "    }\n",
       "</style>\n",
       "<table border=\"1\" class=\"dataframe\">\n",
       "  <thead>\n",
       "    <tr style=\"text-align: right;\">\n",
       "      <th></th>\n",
       "      <th>start_date</th>\n",
       "      <th>end_date</th>\n",
       "      <th>lat</th>\n",
       "      <th>lon</th>\n",
       "      <th>l2</th>\n",
       "      <th>l3</th>\n",
       "      <th>l4</th>\n",
       "      <th>l5</th>\n",
       "      <th>l6</th>\n",
       "      <th>rooms</th>\n",
       "      <th>bedrooms</th>\n",
       "      <th>bathrooms</th>\n",
       "      <th>surface_total</th>\n",
       "      <th>surface_covered</th>\n",
       "      <th>price</th>\n",
       "      <th>currency</th>\n",
       "      <th>title</th>\n",
       "      <th>description</th>\n",
       "      <th>property_type</th>\n",
       "    </tr>\n",
       "  </thead>\n",
       "  <tbody>\n",
       "    <tr>\n",
       "      <th>0</th>\n",
       "      <td>2020-12-14</td>\n",
       "      <td>9999-12-31</td>\n",
       "      <td>6.203000</td>\n",
       "      <td>-75.572000</td>\n",
       "      <td>Antioquia</td>\n",
       "      <td>Medellín</td>\n",
       "      <td>El Poblado</td>\n",
       "      <td>NaN</td>\n",
       "      <td>NaN</td>\n",
       "      <td>NaN</td>\n",
       "      <td>4.0</td>\n",
       "      <td>4.0</td>\n",
       "      <td>NaN</td>\n",
       "      <td>NaN</td>\n",
       "      <td>9.000000e+09</td>\n",
       "      <td>COP</td>\n",
       "      <td>Hermosa Mansión En El Poblado. Área Construida...</td>\n",
       "      <td>&lt;b&gt;Hermosa Mansión En El Poblado. Área Constru...</td>\n",
       "      <td>Casa</td>\n",
       "    </tr>\n",
       "    <tr>\n",
       "      <th>1</th>\n",
       "      <td>2020-09-16</td>\n",
       "      <td>2021-05-14</td>\n",
       "      <td>4.722748</td>\n",
       "      <td>-74.073115</td>\n",
       "      <td>Cundinamarca</td>\n",
       "      <td>Bogotá D.C</td>\n",
       "      <td>Zona Noroccidental</td>\n",
       "      <td>Suba</td>\n",
       "      <td>NaN</td>\n",
       "      <td>NaN</td>\n",
       "      <td>3.0</td>\n",
       "      <td>2.0</td>\n",
       "      <td>NaN</td>\n",
       "      <td>NaN</td>\n",
       "      <td>6.250000e+08</td>\n",
       "      <td>COP</td>\n",
       "      <td>APARTAMENTO EN VENTA, BOGOTA-CIUDAD JARDIN NORTE</td>\n",
       "      <td>Venta apartamento en piso 16 con vista exterio...</td>\n",
       "      <td>Apartamento</td>\n",
       "    </tr>\n",
       "    <tr>\n",
       "      <th>2</th>\n",
       "      <td>2020-08-19</td>\n",
       "      <td>2020-08-20</td>\n",
       "      <td>4.709000</td>\n",
       "      <td>-74.030000</td>\n",
       "      <td>Cundinamarca</td>\n",
       "      <td>Bogotá D.C</td>\n",
       "      <td>Zona Norte</td>\n",
       "      <td>Usaquén</td>\n",
       "      <td>Bella Suiza</td>\n",
       "      <td>NaN</td>\n",
       "      <td>NaN</td>\n",
       "      <td>2.0</td>\n",
       "      <td>NaN</td>\n",
       "      <td>NaN</td>\n",
       "      <td>4.200000e+08</td>\n",
       "      <td>COP</td>\n",
       "      <td>Apartamento En Venta En Bogota Bella Suiza Cod...</td>\n",
       "      <td>Al entrar a este bonito apartamento interior e...</td>\n",
       "      <td>Casa</td>\n",
       "    </tr>\n",
       "    <tr>\n",
       "      <th>3</th>\n",
       "      <td>2020-11-23</td>\n",
       "      <td>2020-11-30</td>\n",
       "      <td>NaN</td>\n",
       "      <td>NaN</td>\n",
       "      <td>Santander</td>\n",
       "      <td>Bucaramanga</td>\n",
       "      <td>NaN</td>\n",
       "      <td>NaN</td>\n",
       "      <td>NaN</td>\n",
       "      <td>NaN</td>\n",
       "      <td>NaN</td>\n",
       "      <td>1.0</td>\n",
       "      <td>NaN</td>\n",
       "      <td>NaN</td>\n",
       "      <td>1.310000e+09</td>\n",
       "      <td>COP</td>\n",
       "      <td>SE VENDE LOCAL COMERCIAL EN CABECERA DEL LLANO...</td>\n",
       "      <td>Se encuentra ubicado en el sector de la Cabece...</td>\n",
       "      <td>Otro</td>\n",
       "    </tr>\n",
       "    <tr>\n",
       "      <th>4</th>\n",
       "      <td>2020-10-06</td>\n",
       "      <td>2020-10-07</td>\n",
       "      <td>NaN</td>\n",
       "      <td>NaN</td>\n",
       "      <td>Antioquia</td>\n",
       "      <td>Medellín</td>\n",
       "      <td>NaN</td>\n",
       "      <td>NaN</td>\n",
       "      <td>NaN</td>\n",
       "      <td>NaN</td>\n",
       "      <td>NaN</td>\n",
       "      <td>2.0</td>\n",
       "      <td>NaN</td>\n",
       "      <td>NaN</td>\n",
       "      <td>2.100000e+08</td>\n",
       "      <td>COP</td>\n",
       "      <td>Apartamento en Venta Ubicado en ITAGUI</td>\n",
       "      <td>Codigo Inmueble 4302 Apartamento con 3 habitac...</td>\n",
       "      <td>Apartamento</td>\n",
       "    </tr>\n",
       "  </tbody>\n",
       "</table>\n",
       "</div>"
      ],
      "text/plain": [
       "   start_date    end_date       lat        lon            l2           l3  \\\n",
       "0  2020-12-14  9999-12-31  6.203000 -75.572000     Antioquia     Medellín   \n",
       "1  2020-09-16  2021-05-14  4.722748 -74.073115  Cundinamarca   Bogotá D.C   \n",
       "2  2020-08-19  2020-08-20  4.709000 -74.030000  Cundinamarca   Bogotá D.C   \n",
       "3  2020-11-23  2020-11-30       NaN        NaN     Santander  Bucaramanga   \n",
       "4  2020-10-06  2020-10-07       NaN        NaN     Antioquia     Medellín   \n",
       "\n",
       "                   l4       l5           l6  rooms  bedrooms  bathrooms  \\\n",
       "0          El Poblado      NaN          NaN    NaN       4.0        4.0   \n",
       "1  Zona Noroccidental     Suba          NaN    NaN       3.0        2.0   \n",
       "2          Zona Norte  Usaquén  Bella Suiza    NaN       NaN        2.0   \n",
       "3                 NaN      NaN          NaN    NaN       NaN        1.0   \n",
       "4                 NaN      NaN          NaN    NaN       NaN        2.0   \n",
       "\n",
       "   surface_total  surface_covered         price currency  \\\n",
       "0            NaN              NaN  9.000000e+09      COP   \n",
       "1            NaN              NaN  6.250000e+08      COP   \n",
       "2            NaN              NaN  4.200000e+08      COP   \n",
       "3            NaN              NaN  1.310000e+09      COP   \n",
       "4            NaN              NaN  2.100000e+08      COP   \n",
       "\n",
       "                                               title  \\\n",
       "0  Hermosa Mansión En El Poblado. Área Construida...   \n",
       "1   APARTAMENTO EN VENTA, BOGOTA-CIUDAD JARDIN NORTE   \n",
       "2  Apartamento En Venta En Bogota Bella Suiza Cod...   \n",
       "3  SE VENDE LOCAL COMERCIAL EN CABECERA DEL LLANO...   \n",
       "4             Apartamento en Venta Ubicado en ITAGUI   \n",
       "\n",
       "                                         description property_type  \n",
       "0  <b>Hermosa Mansión En El Poblado. Área Constru...          Casa  \n",
       "1  Venta apartamento en piso 16 con vista exterio...   Apartamento  \n",
       "2  Al entrar a este bonito apartamento interior e...          Casa  \n",
       "3  Se encuentra ubicado en el sector de la Cabece...          Otro  \n",
       "4  Codigo Inmueble 4302 Apartamento con 3 habitac...   Apartamento  "
      ]
     },
     "execution_count": 433,
     "metadata": {},
     "output_type": "execute_result"
    }
   ],
   "source": [
    "X.head()"
   ]
  },
  {
   "cell_type": "code",
   "execution_count": 434,
   "metadata": {},
   "outputs": [
    {
     "name": "stdout",
     "output_type": "stream",
     "text": [
      "<class 'pandas.core.frame.DataFrame'>\n",
      "RangeIndex: 197549 entries, 0 to 197548\n",
      "Data columns (total 19 columns):\n",
      " #   Column           Non-Null Count   Dtype  \n",
      "---  ------           --------------   -----  \n",
      " 0   start_date       197549 non-null  object \n",
      " 1   end_date         197549 non-null  object \n",
      " 2   lat              148051 non-null  float64\n",
      " 3   lon              148051 non-null  float64\n",
      " 4   l2               197549 non-null  object \n",
      " 5   l3               186517 non-null  object \n",
      " 6   l4               45367 non-null   object \n",
      " 7   l5               27409 non-null   object \n",
      " 8   l6               6867 non-null    object \n",
      " 9   rooms            27537 non-null   float64\n",
      " 10  bedrooms         40525 non-null   float64\n",
      " 11  bathrooms        156467 non-null  float64\n",
      " 12  surface_total    6974 non-null    float64\n",
      " 13  surface_covered  9802 non-null    float64\n",
      " 14  price            197486 non-null  float64\n",
      " 15  currency         197482 non-null  object \n",
      " 16  title            197548 non-null  object \n",
      " 17  description      197428 non-null  object \n",
      " 18  property_type    197549 non-null  object \n",
      "dtypes: float64(8), object(11)\n",
      "memory usage: 28.6+ MB\n"
     ]
    }
   ],
   "source": [
    "X.info()"
   ]
  },
  {
   "cell_type": "markdown",
   "metadata": {},
   "source": [
    "A continuación convertiremos los precios es USD a COP. Todos los anuncuos fueron publicados en el año 2020. Tomaremos el promedio de la tasa de cambio para el año 2020:\n",
    "\n",
    "https://www.exchangerates.org.uk/USD-COP-spot-exchange-rates-history-2020.html"
   ]
  },
  {
   "cell_type": "code",
   "execution_count": 435,
   "metadata": {},
   "outputs": [],
   "source": [
    "# Convirtiendo USD a COP\n",
    "X.loc[X.currency == 'USD', 'price'] = X.price * 3691.3167 "
   ]
  },
  {
   "cell_type": "markdown",
   "metadata": {},
   "source": [
    "Podemos descartar la columna currency"
   ]
  },
  {
   "cell_type": "code",
   "execution_count": 436,
   "metadata": {},
   "outputs": [],
   "source": [
    "X.drop(['currency'], axis='columns', inplace=True)"
   ]
  },
  {
   "cell_type": "markdown",
   "metadata": {},
   "source": [
    "A continuación verificamos la cantidad de datos faltantes para cada columna."
   ]
  },
  {
   "cell_type": "code",
   "execution_count": 437,
   "metadata": {},
   "outputs": [
    {
     "data": {
      "text/plain": [
       "start_date          0.000000\n",
       "end_date            0.000000\n",
       "lat                25.056062\n",
       "lon                25.056062\n",
       "l2                  0.000000\n",
       "l3                  5.584437\n",
       "l4                 77.035065\n",
       "l5                 86.125468\n",
       "l6                 96.523900\n",
       "rooms              86.060674\n",
       "bedrooms           79.486102\n",
       "bathrooms          20.795853\n",
       "surface_total      96.469737\n",
       "surface_covered    95.038193\n",
       "price               0.031891\n",
       "title               0.000506\n",
       "description         0.061251\n",
       "property_type       0.000000\n",
       "dtype: float64"
      ]
     },
     "execution_count": 437,
     "metadata": {},
     "output_type": "execute_result"
    }
   ],
   "source": [
    "# Propoción de datos nulos.\n",
    "X.isnull().mean()*100"
   ]
  },
  {
   "cell_type": "code",
   "execution_count": 438,
   "metadata": {},
   "outputs": [
    {
     "name": "stdout",
     "output_type": "stream",
     "text": [
      "<class 'pandas.core.frame.DataFrame'>\n",
      "RangeIndex: 197549 entries, 0 to 197548\n",
      "Data columns (total 18 columns):\n",
      " #   Column           Non-Null Count   Dtype  \n",
      "---  ------           --------------   -----  \n",
      " 0   start_date       197549 non-null  object \n",
      " 1   end_date         197549 non-null  object \n",
      " 2   lat              148051 non-null  float64\n",
      " 3   lon              148051 non-null  float64\n",
      " 4   l2               197549 non-null  object \n",
      " 5   l3               186517 non-null  object \n",
      " 6   l4               45367 non-null   object \n",
      " 7   l5               27409 non-null   object \n",
      " 8   l6               6867 non-null    object \n",
      " 9   rooms            27537 non-null   float64\n",
      " 10  bedrooms         40525 non-null   float64\n",
      " 11  bathrooms        156467 non-null  float64\n",
      " 12  surface_total    6974 non-null    float64\n",
      " 13  surface_covered  9802 non-null    float64\n",
      " 14  price            197486 non-null  float64\n",
      " 15  title            197548 non-null  object \n",
      " 16  description      197428 non-null  object \n",
      " 17  property_type    197549 non-null  object \n",
      "dtypes: float64(8), object(10)\n",
      "memory usage: 27.1+ MB\n"
     ]
    }
   ],
   "source": [
    "X.info()"
   ]
  },
  {
   "cell_type": "markdown",
   "metadata": {},
   "source": [
    "Podemos observar que hay varias columnas con un alto porcentaje de valores faltantes: l4, l5, l6, rooms, bedrooms, surface_total ysurface_covered. Exploremos si es posible rellenar esos valores con información de otras columnas. Hay un bajo porcentaje de valores nulos en la columna price. Vamos a llenar esos valores con la media. "
   ]
  },
  {
   "cell_type": "markdown",
   "metadata": {},
   "source": [
    "Vamos a ver si hay outliers en la columna price"
   ]
  },
  {
   "cell_type": "code",
   "execution_count": 439,
   "metadata": {},
   "outputs": [
    {
     "data": {
      "image/png": "[encoded data removed]",
      "text/plain": [
       "<Figure size 640x480 with 1 Axes>"
      ]
     },
     "metadata": {},
     "output_type": "display_data"
    }
   ],
   "source": [
    "# Graficando un boxplot.\n",
    "sns.boxplot(data=X, x='price')\n",
    "plt.title('Precio');"
   ]
  },
  {
   "cell_type": "markdown",
   "metadata": {},
   "source": [
    "Voy a calcular el valor de IQR para descartar outliers."
   ]
  },
  {
   "cell_type": "code",
   "execution_count": 440,
   "metadata": {},
   "outputs": [
    {
     "data": {
      "text/plain": [
       "'# Calculando IQR y el rango superior e inferior, respectivamente. \\nQ1 = X.price.quantile(0.25)\\nQ3 = X.price.quantile(0.75)\\nIQR = Q3 - Q1\\nlower_range = Q1 - 1.5 * IQR\\nupper_range = Q3 + 1.5 * IQR'"
      ]
     },
     "execution_count": 440,
     "metadata": {},
     "output_type": "execute_result"
    }
   ],
   "source": [
    "'''# Calculando IQR y el rango superior e inferior, respectivamente. \n",
    "Q1 = X.price.quantile(0.25)\n",
    "Q3 = X.price.quantile(0.75)\n",
    "IQR = Q3 - Q1\n",
    "lower_range = Q1 - 1.5 * IQR\n",
    "upper_range = Q3 + 1.5 * IQR'''"
   ]
  },
  {
   "cell_type": "code",
   "execution_count": 441,
   "metadata": {},
   "outputs": [
    {
     "data": {
      "text/plain": [
       "'# Eliminando los outliers.\\nX = X.loc[(X.price >= lower_range)&(X.price <= upper_range)|(X.price.isnull())]'"
      ]
     },
     "execution_count": 441,
     "metadata": {},
     "output_type": "execute_result"
    }
   ],
   "source": [
    "'''# Eliminando los outliers.\n",
    "X = X.loc[(X.price >= lower_range)&(X.price <= upper_range)|(X.price.isnull())]'''"
   ]
  },
  {
   "cell_type": "code",
   "execution_count": 442,
   "metadata": {},
   "outputs": [
    {
     "data": {
      "image/png": "[encoded data removed]",
      "text/plain": [
       "<Figure size 640x480 with 1 Axes>"
      ]
     },
     "metadata": {},
     "output_type": "display_data"
    }
   ],
   "source": [
    "# Graficando un boxplot.\n",
    "sns.boxplot(data=X, x='price')\n",
    "plt.title('Precio');"
   ]
  },
  {
   "cell_type": "markdown",
   "metadata": {},
   "source": [
    "Ahora rellenamos los valores faltantes con la media."
   ]
  },
  {
   "cell_type": "code",
   "execution_count": 443,
   "metadata": {},
   "outputs": [],
   "source": [
    "# Aplicando la media a valores nulos\n",
    "X.loc[X.price.isnull(),'price'] = X.price.mean()"
   ]
  },
  {
   "cell_type": "code",
   "execution_count": 444,
   "metadata": {},
   "outputs": [
    {
     "data": {
      "text/plain": [
       "0"
      ]
     },
     "execution_count": 444,
     "metadata": {},
     "output_type": "execute_result"
    }
   ],
   "source": [
    "# Datos nulos en la columna precio.\n",
    "X.price.isnull().sum() "
   ]
  },
  {
   "cell_type": "code",
   "execution_count": 445,
   "metadata": {},
   "outputs": [
    {
     "name": "stdout",
     "output_type": "stream",
     "text": [
      "<class 'pandas.core.frame.DataFrame'>\n",
      "RangeIndex: 197549 entries, 0 to 197548\n",
      "Data columns (total 18 columns):\n",
      " #   Column           Non-Null Count   Dtype  \n",
      "---  ------           --------------   -----  \n",
      " 0   start_date       197549 non-null  object \n",
      " 1   end_date         197549 non-null  object \n",
      " 2   lat              148051 non-null  float64\n",
      " 3   lon              148051 non-null  float64\n",
      " 4   l2               197549 non-null  object \n",
      " 5   l3               186517 non-null  object \n",
      " 6   l4               45367 non-null   object \n",
      " 7   l5               27409 non-null   object \n",
      " 8   l6               6867 non-null    object \n",
      " 9   rooms            27537 non-null   float64\n",
      " 10  bedrooms         40525 non-null   float64\n",
      " 11  bathrooms        156467 non-null  float64\n",
      " 12  surface_total    6974 non-null    float64\n",
      " 13  surface_covered  9802 non-null    float64\n",
      " 14  price            197549 non-null  float64\n",
      " 15  title            197548 non-null  object \n",
      " 16  description      197428 non-null  object \n",
      " 17  property_type    197549 non-null  object \n",
      "dtypes: float64(8), object(10)\n",
      "memory usage: 27.1+ MB\n"
     ]
    }
   ],
   "source": [
    "X.info()"
   ]
  },
  {
   "cell_type": "markdown",
   "metadata": {},
   "source": [
    "Ya no tenemos valores nulos en la columna price."
   ]
  },
  {
   "cell_type": "markdown",
   "metadata": {},
   "source": [
    "A continuación voy a graficar los puntos en la longitud y la latitud para visualizar valores que no se encuentren en Colombia."
   ]
  },
  {
   "cell_type": "code",
   "execution_count": 446,
   "metadata": {},
   "outputs": [
    {
     "data": {
      "image/png": "[encoded data removed]",
      "text/plain": [
       "<Figure size 1000x600 with 1 Axes>"
      ]
     },
     "metadata": {},
     "output_type": "display_data"
    }
   ],
   "source": [
    "# Graficando los punto geográficos en un mapa.\n",
    "geometry = [Point(xy) for xy in zip(X['lon'], X['lat'])]\n",
    "gdf = GeoDataFrame(X, geometry=geometry)    \n",
    "world = gpd.read_file(gpd.datasets.get_path('naturalearth_lowres'))\n",
    "gdf.plot(ax=world.plot(figsize=(10, 6)), marker='o', color='red', markersize=8);"
   ]
  },
  {
   "cell_type": "markdown",
   "metadata": {},
   "source": [
    "Podemos ver que claramente hay un punto geográfico que no se encuentra en Colombia."
   ]
  },
  {
   "cell_type": "markdown",
   "metadata": {},
   "source": [
    "Vamos a revisar los boxplot para las variables latitud y longitud."
   ]
  },
  {
   "cell_type": "code",
   "execution_count": 447,
   "metadata": {},
   "outputs": [
    {
     "data": {
      "image/png": "[encoded data removed]",
      "text/plain": [
       "<Figure size 640x480 with 1 Axes>"
      ]
     },
     "metadata": {},
     "output_type": "display_data"
    }
   ],
   "source": [
    "# Graficando la latitud.\n",
    "sns.boxplot(data=X, x='lat');"
   ]
  },
  {
   "cell_type": "code",
   "execution_count": 448,
   "metadata": {},
   "outputs": [
    {
     "data": {
      "image/png": "[encoded data removed]",
      "text/plain": [
       "<Figure size 640x480 with 1 Axes>"
      ]
     },
     "metadata": {},
     "output_type": "display_data"
    }
   ],
   "source": [
    "# Graficamos la longitud\n",
    "sns.boxplot(data=X, x='lon');"
   ]
  },
  {
   "cell_type": "markdown",
   "metadata": {},
   "source": [
    "Claramente podemos apreciar el outlier. Vamos a eliminarlo."
   ]
  },
  {
   "cell_type": "code",
   "execution_count": 449,
   "metadata": {},
   "outputs": [
    {
     "data": {
      "text/plain": [
       "'# Elimnando outlier.\\nX = X.loc[~(X.lat > 25)]'"
      ]
     },
     "execution_count": 449,
     "metadata": {},
     "output_type": "execute_result"
    }
   ],
   "source": [
    "'''# Elimnando outlier.\n",
    "X = X.loc[~(X.lat > 25)]'''"
   ]
  },
  {
   "cell_type": "code",
   "execution_count": 450,
   "metadata": {},
   "outputs": [
    {
     "data": {
      "image/png": "[encoded data removed]",
      "text/plain": [
       "<Figure size 640x480 with 1 Axes>"
      ]
     },
     "metadata": {},
     "output_type": "display_data"
    }
   ],
   "source": [
    "# Graficando la latitud.\n",
    "sns.boxplot(data=X, x='lat');"
   ]
  },
  {
   "cell_type": "markdown",
   "metadata": {},
   "source": [
    "Vamos a ver cuantos valores faltantes tenemos para la longitud y la latidud."
   ]
  },
  {
   "cell_type": "code",
   "execution_count": 451,
   "metadata": {},
   "outputs": [
    {
     "data": {
      "text/plain": [
       "49498"
      ]
     },
     "execution_count": 451,
     "metadata": {},
     "output_type": "execute_result"
    }
   ],
   "source": [
    "# Datos nulos en la columna lat.\n",
    "X.lat.isnull().sum() "
   ]
  },
  {
   "cell_type": "code",
   "execution_count": 452,
   "metadata": {},
   "outputs": [
    {
     "data": {
      "text/plain": [
       "49498"
      ]
     },
     "execution_count": 452,
     "metadata": {},
     "output_type": "execute_result"
    }
   ],
   "source": [
    "# Datos nulos en la columna lon.\n",
    "X.lon.isnull().sum() "
   ]
  },
  {
   "cell_type": "markdown",
   "metadata": {},
   "source": [
    "Vamos a ver si existen datos en las columnas de niveles administrativos que nos permitan completar los datos faltantes de longitud y latitud."
   ]
  },
  {
   "cell_type": "code",
   "execution_count": 453,
   "metadata": {},
   "outputs": [
    {
     "data": {
      "text/plain": [
       "array(['Santander', 'Antioquia', 'Atlántico', 'Córdoba', 'Cundinamarca',\n",
       "       'Meta', 'Valle del Cauca', 'Caldas', 'Risaralda', 'Magdalena',\n",
       "       'Cauca', 'Huila', 'Bolívar', 'Tolima', 'Norte de Santander',\n",
       "       'Quindío', 'Caquetá', 'Sucre', 'Boyacá', 'Guainía', 'La Guajira',\n",
       "       'Cesar', 'Amazonas', 'San Andrés Providencia y Santa Catalina',\n",
       "       'Casanare', 'Vichada', 'Chocó'], dtype=object)"
      ]
     },
     "execution_count": 453,
     "metadata": {},
     "output_type": "execute_result"
    }
   ],
   "source": [
    "# Viendo los registros de l2 en las filas con valores faltantes de latitud.\n",
    "X.loc[X.lat.isnull()].l2.unique()\n"
   ]
  },
  {
   "cell_type": "markdown",
   "metadata": {},
   "source": [
    "Sabiendo las provincias podemos completar los datos de longitud y latitud faltantes. "
   ]
  },
  {
   "cell_type": "code",
   "execution_count": 454,
   "metadata": {},
   "outputs": [],
   "source": [
    "# Creamos una función que asocia las provincias con su respectivo valor de longitud y latitud. \n",
    "def f_lat_lon(df):\n",
    "    \n",
    "    # Diccionario de latitudes.\n",
    "    dict_lat = {\n",
    "    'Antioquia': 7.154030, 'Atlántico': 10.987760, 'Cundinamarca': 4.781800,\n",
    "    'Meta': 3.2720, 'Valle del Cauca': 3.858560, 'Caldas': 6.090000,\n",
    "    'Risaralda': 4.606880, 'Magdalena': 10.249170, 'Santander': -0.622170,\n",
    "    'Cauca': 8.252500, 'Huila': 3.376450, 'Bolívar': 1.833650, 'Tolima': 4.034880,\n",
    "    'Norte de Santander': 8.084580, 'Quindío': 4.396070, 'Caquetá': 1.113340,\n",
    "    'Sucre': 8.811250, 'Guainía': 2.719020, 'La Guajira': 11.427780,\n",
    "    'Boyacá': 5.453740, 'Cesar': 10.769930, 'Amazonas': -2.056290,\n",
    "    'San Andrés Providencia y Santa Catalina': 12.542720, 'Casanare': 5.296580,\n",
    "    'Vichada': 4.712170, 'Córdoba': 9.586680, 'Chocó': 6.320330\n",
    "    }\n",
    "\n",
    "    # Diccionario de longitudes.\n",
    "    dict_lon = {\n",
    "    'Antioquia': -75.503349, 'Atlántico': -74.954620, 'Cundinamarca': -73.970757,\n",
    "    'Meta': -73.0877, 'Valle del Cauca': -76.519810, 'Caldas': -75.636627,\n",
    "    'Risaralda': -74.071840, 'Magdalena': -74.261080, 'Santander': -72.382812,\n",
    "    'Cauca': -74.722893, 'Huila': -74.802391, 'Bolívar': -76.967293, 'Tolima': -75.255890, \n",
    "    'Norte de Santander': -72.842781, 'Quindío': -75.640083, 'Caquetá': -73.813004, \n",
    "    'Sucre': -74.721390, 'Guainía': -67.566940, 'La Guajira': -72.388634,\n",
    "    'Boyacá': -73.362480, 'Cesar': -73.004791, 'Amazonas': -71.892921,\n",
    "    'San Andrés Providencia y Santa Catalina': -81.717900, 'Casanare': -71.456268,\n",
    "    'Vichada': -69.414350, 'Córdoba': -74.826302, 'Chocó': -76.944901\n",
    "    }\n",
    "    df.lat = np.where(df.lat.isnull(), df.l2.map(dict_lat), df.lat)\n",
    "    df.lon = np.where(df.lon.isnull(), df.l2.map(dict_lon), df.lon)\n",
    "\n",
    "    return None"
   ]
  },
  {
   "cell_type": "code",
   "execution_count": 455,
   "metadata": {},
   "outputs": [],
   "source": [
    "# Aplicamos la función sobre nuestro dataframe.\n",
    "f_lat_lon(X)"
   ]
  },
  {
   "cell_type": "code",
   "execution_count": 456,
   "metadata": {},
   "outputs": [
    {
     "name": "stdout",
     "output_type": "stream",
     "text": [
      "0\n",
      "0\n"
     ]
    }
   ],
   "source": [
    "# Verificamos que no hay valores nulos.\n",
    "print(X.lat.isnull().sum()) \n",
    "print(X.lon.isnull().sum())"
   ]
  },
  {
   "cell_type": "markdown",
   "metadata": {},
   "source": [
    "En la columna de descripción puede haber información correspondiente al número de habitaciónes, cuartos, baños, etc. Vamos a explorar un poco esta columna. "
   ]
  },
  {
   "cell_type": "code",
   "execution_count": 457,
   "metadata": {},
   "outputs": [
    {
     "data": {
      "text/plain": [
       "'Venta apartamento en piso 16 con vista exterior. Tiempo de construido 2 años. Area 122 m2 distribuidos de la siguiente manera: tres habitaciones, sala comedor, cocina tipo americana, dos baños. Dos parqueaderos privados, un deposito. El conjunto cuenta con seguridad las veinticuatro horas, GYM, salon comunal, piscina, billar, mesa de ping pong, cancha de fooball. El apartamento de tus sueños lo acabas de encontrar. Llamenos para tener el privilegio de atenderlos. Gracias \\n'"
      ]
     },
     "execution_count": 457,
     "metadata": {},
     "output_type": "execute_result"
    }
   ],
   "source": [
    "X.description.loc[1]"
   ]
  },
  {
   "cell_type": "markdown",
   "metadata": {},
   "source": [
    "Podemos ver que es necesario realizar ciertas operaciones de formato sobre la columna."
   ]
  },
  {
   "cell_type": "code",
   "execution_count": 458,
   "metadata": {},
   "outputs": [],
   "source": [
    "# Formateando description\n",
    "X.description = X.description.str.capitalize().str.strip()\n",
    "# Eliminamos caracteres como ñ y tildes.\n",
    "X.description = X.description.str.normalize('NFKD').str.encode('ascii', errors='ignore').str.decode('utf-8')"
   ]
  },
  {
   "cell_type": "code",
   "execution_count": 459,
   "metadata": {},
   "outputs": [
    {
     "data": {
      "text/plain": [
       "<bound method Series.count of 1         Venta apartamento en piso 16 con vista exterio...\n",
       "2         Al entrar a este bonito apartamento interior e...\n",
       "4         Codigo inmueble 4302 apartamento con 3 habitac...\n",
       "6         Casa de tres pisos,en el ultimo piso,terraza b...\n",
       "7         Mateus inmobiliaria y constructora zagoz te pr...\n",
       "                                ...                        \n",
       "197541    Monviso 2 habitaciones\\n* direccion exacta: cr...\n",
       "197543    638-2036 venta espectacular apartamento ubicad...\n",
       "197544    Vendo lindo apartamento en el tintal, sexto pi...\n",
       "197546    Excelente local ubicado en el segundo piso del...\n",
       "197548    Sala, comedor, 2habitaciones cocina bano patio...\n",
       "Name: description, Length: 133279, dtype: object>"
      ]
     },
     "execution_count": 459,
     "metadata": {},
     "output_type": "execute_result"
    }
   ],
   "source": [
    "# Buscamos cuantas entredas tienen la palabra baño.\n",
    "X.loc[X.description.str.contains('bano', na=False)].description.count"
   ]
  },
  {
   "cell_type": "markdown",
   "metadata": {},
   "source": [
    "Vamos a crear una función que extraiga la cantidad de baños en el str de descripción y lo ingrese donde existan valores nulos en la columna bathrooms."
   ]
  },
  {
   "cell_type": "code",
   "execution_count": 460,
   "metadata": {},
   "outputs": [],
   "source": [
    "# Definimos una función que extraiga el número de baños.\n",
    "def numero_banios(df):\n",
    "\n",
    "    # Formateamos.\n",
    "    df.description = df.description.str.capitalize().str.strip()\n",
    "    df.description = df.description.str.normalize('NFKD').str.encode('ascii', errors='ignore').str.decode('utf-8')\n",
    "    # Vamos a llenar las filas nulas.\n",
    "    df.loc[df.description.isnull(), 'description'] = 'Sin descripcion'\n",
    "    \n",
    "    # Cambiamos los números escritos por su símbolo.\n",
    "    dict_num = {' uno ': ' 1 ', ' dos ':' 2 ', ' tres ':' 3 ', ' cuatro ':' 4 ', ' cinco ':' 5 ', ' seis ':' 6 ', ' siete ':' 7 ', ' ocho ':' 8 ', ' nueve ':' 9 '}\n",
    "    for letra, simbolo in dict_num.items():\n",
    "        df.description = df.description.str.replace(letra, simbolo, regex=False)\n",
    "\n",
    "    # Extraemos el número\n",
    "    numero = f\"(\\d+)[\\s-](?:{'bano'})\"\n",
    "    bathrooms = df.loc[df.bathrooms.isnull()].description.str.extract(numero)\n",
    "    df = df.join(bathrooms)\n",
    "    \n",
    "    # Cambiamos valores nulos por el número de baños\n",
    "    df.loc[(df.bathrooms.isnull()) & (df[0].notnull()), 'bathrooms'] = df[0]\n",
    "    df.drop([0], axis='columns',inplace=True)\n",
    "\n",
    "    # Utilizaremos la moda en aquellos valores que sigan siendo nulos.\n",
    "    moda_bath = df.groupby(['property_type']).bathrooms.agg(pd.Series.mode)\n",
    "    moda_bath.loc['Parqueadero'] = 0\n",
    "    df.bathrooms = np.where(df.bathrooms.isnull(), df.property_type.map(moda_bath), df.bathrooms)\n",
    "    df.bathrooms = df.bathrooms.astype(int)\n",
    "\n",
    "    return df"
   ]
  },
  {
   "cell_type": "code",
   "execution_count": 461,
   "metadata": {},
   "outputs": [],
   "source": [
    "X = numero_banios(X)"
   ]
  },
  {
   "cell_type": "code",
   "execution_count": 462,
   "metadata": {},
   "outputs": [
    {
     "name": "stdout",
     "output_type": "stream",
     "text": [
      "<class 'pandas.core.frame.DataFrame'>\n",
      "RangeIndex: 197549 entries, 0 to 197548\n",
      "Data columns (total 19 columns):\n",
      " #   Column           Non-Null Count   Dtype   \n",
      "---  ------           --------------   -----   \n",
      " 0   start_date       197549 non-null  object  \n",
      " 1   end_date         197549 non-null  object  \n",
      " 2   lat              197549 non-null  float64 \n",
      " 3   lon              197549 non-null  float64 \n",
      " 4   l2               197549 non-null  object  \n",
      " 5   l3               186517 non-null  object  \n",
      " 6   l4               45367 non-null   object  \n",
      " 7   l5               27409 non-null   object  \n",
      " 8   l6               6867 non-null    object  \n",
      " 9   rooms            27537 non-null   float64 \n",
      " 10  bedrooms         40525 non-null   float64 \n",
      " 11  bathrooms        197549 non-null  int32   \n",
      " 12  surface_total    6974 non-null    float64 \n",
      " 13  surface_covered  9802 non-null    float64 \n",
      " 14  price            197549 non-null  float64 \n",
      " 15  title            197548 non-null  object  \n",
      " 16  description      197549 non-null  object  \n",
      " 17  property_type    197549 non-null  object  \n",
      " 18  geometry         197549 non-null  geometry\n",
      "dtypes: float64(7), geometry(1), int32(1), object(10)\n",
      "memory usage: 27.9+ MB\n"
     ]
    }
   ],
   "source": [
    "X.info()"
   ]
  },
  {
   "cell_type": "markdown",
   "metadata": {},
   "source": [
    "Vamos a eliminar las columnas que no vamos a utilizar. "
   ]
  },
  {
   "cell_type": "code",
   "execution_count": 463,
   "metadata": {},
   "outputs": [
    {
     "data": {
      "text/plain": [
       "Index(['start_date', 'end_date', 'lat', 'lon', 'l2', 'l3', 'l4', 'l5', 'l6',\n",
       "       'rooms', 'bedrooms', 'bathrooms', 'surface_total', 'surface_covered',\n",
       "       'price', 'title', 'description', 'property_type', 'geometry'],\n",
       "      dtype='object')"
      ]
     },
     "execution_count": 463,
     "metadata": {},
     "output_type": "execute_result"
    }
   ],
   "source": [
    "X.columns"
   ]
  },
  {
   "cell_type": "code",
   "execution_count": 464,
   "metadata": {},
   "outputs": [],
   "source": [
    "X.drop(['l4', 'l5', 'l6','rooms', 'bedrooms','surface_total', 'surface_covered','title', 'description', 'geometry'], axis='columns', inplace=True)"
   ]
  },
  {
   "cell_type": "code",
   "execution_count": 465,
   "metadata": {},
   "outputs": [
    {
     "name": "stdout",
     "output_type": "stream",
     "text": [
      "<class 'pandas.core.frame.DataFrame'>\n",
      "RangeIndex: 197549 entries, 0 to 197548\n",
      "Data columns (total 9 columns):\n",
      " #   Column         Non-Null Count   Dtype  \n",
      "---  ------         --------------   -----  \n",
      " 0   start_date     197549 non-null  object \n",
      " 1   end_date       197549 non-null  object \n",
      " 2   lat            197549 non-null  float64\n",
      " 3   lon            197549 non-null  float64\n",
      " 4   l2             197549 non-null  object \n",
      " 5   l3             186517 non-null  object \n",
      " 6   bathrooms      197549 non-null  int32  \n",
      " 7   price          197549 non-null  float64\n",
      " 8   property_type  197549 non-null  object \n",
      "dtypes: float64(3), int32(1), object(5)\n",
      "memory usage: 12.8+ MB\n"
     ]
    }
   ],
   "source": [
    "X.info()"
   ]
  },
  {
   "cell_type": "markdown",
   "metadata": {},
   "source": [
    "Ahora vamos a entrenar el modelo"
   ]
  },
  {
   "cell_type": "code",
   "execution_count": 466,
   "metadata": {},
   "outputs": [],
   "source": [
    "# Importando librerias\n",
    "from sklearn.pipeline import Pipeline\n",
    "from sklearn.model_selection import train_test_split\n",
    "from sklearn.preprocessing import StandardScaler\n",
    "from sklearn.ensemble import RandomForestClassifier, GradientBoostingClassifier\n",
    "from sklearn.neural_network import MLPClassifier\n",
    "from sklearn.model_selection import cross_validate\n",
    "from sklearn.metrics import accuracy_score, recall_score"
   ]
  },
  {
   "cell_type": "code",
   "execution_count": 467,
   "metadata": {},
   "outputs": [
    {
     "data": {
      "text/plain": [
       "Index(['start_date', 'end_date', 'lat', 'lon', 'l2', 'l3', 'bathrooms',\n",
       "       'price', 'property_type'],\n",
       "      dtype='object')"
      ]
     },
     "execution_count": 467,
     "metadata": {},
     "output_type": "execute_result"
    }
   ],
   "source": [
    "X.columns"
   ]
  },
  {
   "cell_type": "code",
   "execution_count": 468,
   "metadata": {},
   "outputs": [
    {
     "data": {
      "text/html": [
       "<div>\n",
       "<style scoped>\n",
       "    .dataframe tbody tr th:only-of-type {\n",
       "        vertical-align: middle;\n",
       "    }\n",
       "\n",
       "    .dataframe tbody tr th {\n",
       "        vertical-align: top;\n",
       "    }\n",
       "\n",
       "    .dataframe thead th {\n",
       "        text-align: right;\n",
       "    }\n",
       "</style>\n",
       "<table border=\"1\" class=\"dataframe\">\n",
       "  <thead>\n",
       "    <tr style=\"text-align: right;\">\n",
       "      <th></th>\n",
       "      <th>start_date</th>\n",
       "      <th>end_date</th>\n",
       "      <th>lat</th>\n",
       "      <th>lon</th>\n",
       "      <th>l2</th>\n",
       "      <th>l3</th>\n",
       "      <th>bathrooms</th>\n",
       "      <th>price</th>\n",
       "      <th>property_type</th>\n",
       "    </tr>\n",
       "  </thead>\n",
       "  <tbody>\n",
       "    <tr>\n",
       "      <th>0</th>\n",
       "      <td>2020-12-14</td>\n",
       "      <td>9999-12-31</td>\n",
       "      <td>6.203000</td>\n",
       "      <td>-75.572000</td>\n",
       "      <td>Antioquia</td>\n",
       "      <td>Medellín</td>\n",
       "      <td>4</td>\n",
       "      <td>9.000000e+09</td>\n",
       "      <td>Casa</td>\n",
       "    </tr>\n",
       "    <tr>\n",
       "      <th>1</th>\n",
       "      <td>2020-09-16</td>\n",
       "      <td>2021-05-14</td>\n",
       "      <td>4.722748</td>\n",
       "      <td>-74.073115</td>\n",
       "      <td>Cundinamarca</td>\n",
       "      <td>Bogotá D.C</td>\n",
       "      <td>2</td>\n",
       "      <td>6.250000e+08</td>\n",
       "      <td>Apartamento</td>\n",
       "    </tr>\n",
       "    <tr>\n",
       "      <th>2</th>\n",
       "      <td>2020-08-19</td>\n",
       "      <td>2020-08-20</td>\n",
       "      <td>4.709000</td>\n",
       "      <td>-74.030000</td>\n",
       "      <td>Cundinamarca</td>\n",
       "      <td>Bogotá D.C</td>\n",
       "      <td>2</td>\n",
       "      <td>4.200000e+08</td>\n",
       "      <td>Casa</td>\n",
       "    </tr>\n",
       "    <tr>\n",
       "      <th>3</th>\n",
       "      <td>2020-11-23</td>\n",
       "      <td>2020-11-30</td>\n",
       "      <td>-0.622170</td>\n",
       "      <td>-72.382812</td>\n",
       "      <td>Santander</td>\n",
       "      <td>Bucaramanga</td>\n",
       "      <td>1</td>\n",
       "      <td>1.310000e+09</td>\n",
       "      <td>Otro</td>\n",
       "    </tr>\n",
       "    <tr>\n",
       "      <th>4</th>\n",
       "      <td>2020-10-06</td>\n",
       "      <td>2020-10-07</td>\n",
       "      <td>7.154030</td>\n",
       "      <td>-75.503349</td>\n",
       "      <td>Antioquia</td>\n",
       "      <td>Medellín</td>\n",
       "      <td>2</td>\n",
       "      <td>2.100000e+08</td>\n",
       "      <td>Apartamento</td>\n",
       "    </tr>\n",
       "  </tbody>\n",
       "</table>\n",
       "</div>"
      ],
      "text/plain": [
       "   start_date    end_date       lat        lon            l2           l3  \\\n",
       "0  2020-12-14  9999-12-31  6.203000 -75.572000     Antioquia     Medellín   \n",
       "1  2020-09-16  2021-05-14  4.722748 -74.073115  Cundinamarca   Bogotá D.C   \n",
       "2  2020-08-19  2020-08-20  4.709000 -74.030000  Cundinamarca   Bogotá D.C   \n",
       "3  2020-11-23  2020-11-30 -0.622170 -72.382812     Santander  Bucaramanga   \n",
       "4  2020-10-06  2020-10-07  7.154030 -75.503349     Antioquia     Medellín   \n",
       "\n",
       "   bathrooms         price property_type  \n",
       "0          4  9.000000e+09          Casa  \n",
       "1          2  6.250000e+08   Apartamento  \n",
       "2          2  4.200000e+08          Casa  \n",
       "3          1  1.310000e+09          Otro  \n",
       "4          2  2.100000e+08   Apartamento  "
      ]
     },
     "execution_count": 468,
     "metadata": {},
     "output_type": "execute_result"
    }
   ],
   "source": [
    "# Creamos el dataframe de entrenamiento\n",
    "X_train = X[['start_date', 'end_date', 'lat', 'lon', 'l2', 'l3', 'bathrooms', 'price', 'property_type']].copy()\n",
    "X_train.head()"
   ]
  },
  {
   "cell_type": "code",
   "execution_count": 469,
   "metadata": {},
   "outputs": [
    {
     "data": {
      "text/html": [
       "<div>\n",
       "<style scoped>\n",
       "    .dataframe tbody tr th:only-of-type {\n",
       "        vertical-align: middle;\n",
       "    }\n",
       "\n",
       "    .dataframe tbody tr th {\n",
       "        vertical-align: top;\n",
       "    }\n",
       "\n",
       "    .dataframe thead th {\n",
       "        text-align: right;\n",
       "    }\n",
       "</style>\n",
       "<table border=\"1\" class=\"dataframe\">\n",
       "  <thead>\n",
       "    <tr style=\"text-align: right;\">\n",
       "      <th></th>\n",
       "      <th>start_date</th>\n",
       "      <th>end_date</th>\n",
       "      <th>lat</th>\n",
       "      <th>lon</th>\n",
       "      <th>l2</th>\n",
       "      <th>l3</th>\n",
       "      <th>bathrooms</th>\n",
       "      <th>price</th>\n",
       "      <th>property_type</th>\n",
       "      <th>target</th>\n",
       "    </tr>\n",
       "  </thead>\n",
       "  <tbody>\n",
       "    <tr>\n",
       "      <th>0</th>\n",
       "      <td>2020-12-14</td>\n",
       "      <td>9999-12-31</td>\n",
       "      <td>6.203000</td>\n",
       "      <td>-75.572000</td>\n",
       "      <td>Antioquia</td>\n",
       "      <td>Medellín</td>\n",
       "      <td>4</td>\n",
       "      <td>9.000000e+09</td>\n",
       "      <td>Casa</td>\n",
       "      <td>1</td>\n",
       "    </tr>\n",
       "    <tr>\n",
       "      <th>1</th>\n",
       "      <td>2020-09-16</td>\n",
       "      <td>2021-05-14</td>\n",
       "      <td>4.722748</td>\n",
       "      <td>-74.073115</td>\n",
       "      <td>Cundinamarca</td>\n",
       "      <td>Bogotá D.C</td>\n",
       "      <td>2</td>\n",
       "      <td>6.250000e+08</td>\n",
       "      <td>Apartamento</td>\n",
       "      <td>0</td>\n",
       "    </tr>\n",
       "    <tr>\n",
       "      <th>2</th>\n",
       "      <td>2020-08-19</td>\n",
       "      <td>2020-08-20</td>\n",
       "      <td>4.709000</td>\n",
       "      <td>-74.030000</td>\n",
       "      <td>Cundinamarca</td>\n",
       "      <td>Bogotá D.C</td>\n",
       "      <td>2</td>\n",
       "      <td>4.200000e+08</td>\n",
       "      <td>Casa</td>\n",
       "      <td>0</td>\n",
       "    </tr>\n",
       "    <tr>\n",
       "      <th>3</th>\n",
       "      <td>2020-11-23</td>\n",
       "      <td>2020-11-30</td>\n",
       "      <td>-0.622170</td>\n",
       "      <td>-72.382812</td>\n",
       "      <td>Santander</td>\n",
       "      <td>Bucaramanga</td>\n",
       "      <td>1</td>\n",
       "      <td>1.310000e+09</td>\n",
       "      <td>Otro</td>\n",
       "      <td>1</td>\n",
       "    </tr>\n",
       "    <tr>\n",
       "      <th>4</th>\n",
       "      <td>2020-10-06</td>\n",
       "      <td>2020-10-07</td>\n",
       "      <td>7.154030</td>\n",
       "      <td>-75.503349</td>\n",
       "      <td>Antioquia</td>\n",
       "      <td>Medellín</td>\n",
       "      <td>2</td>\n",
       "      <td>2.100000e+08</td>\n",
       "      <td>Apartamento</td>\n",
       "      <td>0</td>\n",
       "    </tr>\n",
       "  </tbody>\n",
       "</table>\n",
       "</div>"
      ],
      "text/plain": [
       "   start_date    end_date       lat        lon            l2           l3  \\\n",
       "0  2020-12-14  9999-12-31  6.203000 -75.572000     Antioquia     Medellín   \n",
       "1  2020-09-16  2021-05-14  4.722748 -74.073115  Cundinamarca   Bogotá D.C   \n",
       "2  2020-08-19  2020-08-20  4.709000 -74.030000  Cundinamarca   Bogotá D.C   \n",
       "3  2020-11-23  2020-11-30 -0.622170 -72.382812     Santander  Bucaramanga   \n",
       "4  2020-10-06  2020-10-07  7.154030 -75.503349     Antioquia     Medellín   \n",
       "\n",
       "   bathrooms         price property_type  target  \n",
       "0          4  9.000000e+09          Casa       1  \n",
       "1          2  6.250000e+08   Apartamento       0  \n",
       "2          2  4.200000e+08          Casa       0  \n",
       "3          1  1.310000e+09          Otro       1  \n",
       "4          2  2.100000e+08   Apartamento       0  "
      ]
     },
     "execution_count": 469,
     "metadata": {},
     "output_type": "execute_result"
    }
   ],
   "source": [
    "# Creamos la columna target. Se asocia 1 a los precios por encima de la media y 0 por debajo.\n",
    "X_train['target'] = np.where(X_train['price']>=X_train.price.mean(), 1, 0)\n",
    "X_train.head()"
   ]
  },
  {
   "cell_type": "code",
   "execution_count": 470,
   "metadata": {},
   "outputs": [
    {
     "data": {
      "text/plain": [
       "array(['Casa', 'Apartamento', 'Otro', 'Oficina', 'Finca', 'Lote',\n",
       "       'Local comercial', 'Parqueadero'], dtype=object)"
      ]
     },
     "execution_count": 470,
     "metadata": {},
     "output_type": "execute_result"
    }
   ],
   "source": [
    "X.property_type.unique()"
   ]
  },
  {
   "cell_type": "code",
   "execution_count": 471,
   "metadata": {},
   "outputs": [],
   "source": [
    "# Creamos dummies para los tipos de propiedad\n",
    "X_train[['Apartamento','Casa','Finca','Local comercial','Lote','Oficina','Otro','Parqueadero']] = pd.get_dummies(X_train.property_type)\n",
    "X_train.drop(['property_type'],axis='columns', inplace=True)"
   ]
  },
  {
   "cell_type": "code",
   "execution_count": 472,
   "metadata": {},
   "outputs": [
    {
     "data": {
      "text/html": [
       "<div>\n",
       "<style scoped>\n",
       "    .dataframe tbody tr th:only-of-type {\n",
       "        vertical-align: middle;\n",
       "    }\n",
       "\n",
       "    .dataframe tbody tr th {\n",
       "        vertical-align: top;\n",
       "    }\n",
       "\n",
       "    .dataframe thead th {\n",
       "        text-align: right;\n",
       "    }\n",
       "</style>\n",
       "<table border=\"1\" class=\"dataframe\">\n",
       "  <thead>\n",
       "    <tr style=\"text-align: right;\">\n",
       "      <th></th>\n",
       "      <th>start_date</th>\n",
       "      <th>end_date</th>\n",
       "      <th>lat</th>\n",
       "      <th>lon</th>\n",
       "      <th>l2</th>\n",
       "      <th>l3</th>\n",
       "      <th>bathrooms</th>\n",
       "      <th>price</th>\n",
       "      <th>target</th>\n",
       "      <th>Apartamento</th>\n",
       "      <th>Casa</th>\n",
       "      <th>Finca</th>\n",
       "      <th>Local comercial</th>\n",
       "      <th>Lote</th>\n",
       "      <th>Oficina</th>\n",
       "      <th>Parqueadero</th>\n",
       "    </tr>\n",
       "  </thead>\n",
       "  <tbody>\n",
       "    <tr>\n",
       "      <th>0</th>\n",
       "      <td>2020-12-14</td>\n",
       "      <td>9999-12-31</td>\n",
       "      <td>6.203000</td>\n",
       "      <td>-75.572000</td>\n",
       "      <td>Antioquia</td>\n",
       "      <td>Medellín</td>\n",
       "      <td>4</td>\n",
       "      <td>9.000000e+09</td>\n",
       "      <td>1</td>\n",
       "      <td>0</td>\n",
       "      <td>1</td>\n",
       "      <td>0</td>\n",
       "      <td>0</td>\n",
       "      <td>0</td>\n",
       "      <td>0</td>\n",
       "      <td>0</td>\n",
       "    </tr>\n",
       "    <tr>\n",
       "      <th>1</th>\n",
       "      <td>2020-09-16</td>\n",
       "      <td>2021-05-14</td>\n",
       "      <td>4.722748</td>\n",
       "      <td>-74.073115</td>\n",
       "      <td>Cundinamarca</td>\n",
       "      <td>Bogotá D.C</td>\n",
       "      <td>2</td>\n",
       "      <td>6.250000e+08</td>\n",
       "      <td>0</td>\n",
       "      <td>1</td>\n",
       "      <td>0</td>\n",
       "      <td>0</td>\n",
       "      <td>0</td>\n",
       "      <td>0</td>\n",
       "      <td>0</td>\n",
       "      <td>0</td>\n",
       "    </tr>\n",
       "    <tr>\n",
       "      <th>2</th>\n",
       "      <td>2020-08-19</td>\n",
       "      <td>2020-08-20</td>\n",
       "      <td>4.709000</td>\n",
       "      <td>-74.030000</td>\n",
       "      <td>Cundinamarca</td>\n",
       "      <td>Bogotá D.C</td>\n",
       "      <td>2</td>\n",
       "      <td>4.200000e+08</td>\n",
       "      <td>0</td>\n",
       "      <td>0</td>\n",
       "      <td>1</td>\n",
       "      <td>0</td>\n",
       "      <td>0</td>\n",
       "      <td>0</td>\n",
       "      <td>0</td>\n",
       "      <td>0</td>\n",
       "    </tr>\n",
       "    <tr>\n",
       "      <th>3</th>\n",
       "      <td>2020-11-23</td>\n",
       "      <td>2020-11-30</td>\n",
       "      <td>-0.622170</td>\n",
       "      <td>-72.382812</td>\n",
       "      <td>Santander</td>\n",
       "      <td>Bucaramanga</td>\n",
       "      <td>1</td>\n",
       "      <td>1.310000e+09</td>\n",
       "      <td>1</td>\n",
       "      <td>0</td>\n",
       "      <td>0</td>\n",
       "      <td>0</td>\n",
       "      <td>0</td>\n",
       "      <td>0</td>\n",
       "      <td>0</td>\n",
       "      <td>0</td>\n",
       "    </tr>\n",
       "    <tr>\n",
       "      <th>4</th>\n",
       "      <td>2020-10-06</td>\n",
       "      <td>2020-10-07</td>\n",
       "      <td>7.154030</td>\n",
       "      <td>-75.503349</td>\n",
       "      <td>Antioquia</td>\n",
       "      <td>Medellín</td>\n",
       "      <td>2</td>\n",
       "      <td>2.100000e+08</td>\n",
       "      <td>0</td>\n",
       "      <td>1</td>\n",
       "      <td>0</td>\n",
       "      <td>0</td>\n",
       "      <td>0</td>\n",
       "      <td>0</td>\n",
       "      <td>0</td>\n",
       "      <td>0</td>\n",
       "    </tr>\n",
       "  </tbody>\n",
       "</table>\n",
       "</div>"
      ],
      "text/plain": [
       "   start_date    end_date       lat        lon            l2           l3  \\\n",
       "0  2020-12-14  9999-12-31  6.203000 -75.572000     Antioquia     Medellín   \n",
       "1  2020-09-16  2021-05-14  4.722748 -74.073115  Cundinamarca   Bogotá D.C   \n",
       "2  2020-08-19  2020-08-20  4.709000 -74.030000  Cundinamarca   Bogotá D.C   \n",
       "3  2020-11-23  2020-11-30 -0.622170 -72.382812     Santander  Bucaramanga   \n",
       "4  2020-10-06  2020-10-07  7.154030 -75.503349     Antioquia     Medellín   \n",
       "\n",
       "   bathrooms         price  target  Apartamento  Casa  Finca  Local comercial  \\\n",
       "0          4  9.000000e+09       1            0     1      0                0   \n",
       "1          2  6.250000e+08       0            1     0      0                0   \n",
       "2          2  4.200000e+08       0            0     1      0                0   \n",
       "3          1  1.310000e+09       1            0     0      0                0   \n",
       "4          2  2.100000e+08       0            1     0      0                0   \n",
       "\n",
       "   Lote  Oficina  Parqueadero  \n",
       "0     0        0            0  \n",
       "1     0        0            0  \n",
       "2     0        0            0  \n",
       "3     0        0            0  \n",
       "4     0        0            0  "
      ]
     },
     "execution_count": 472,
     "metadata": {},
     "output_type": "execute_result"
    }
   ],
   "source": [
    "X_train.head()"
   ]
  },
  {
   "cell_type": "code",
   "execution_count": 473,
   "metadata": {},
   "outputs": [
    {
     "data": {
      "text/plain": [
       "Index(['start_date', 'end_date', 'lat', 'lon', 'l2', 'l3', 'bathrooms',\n",
       "       'price', 'target', 'Apartamento', 'Casa', 'Finca', 'Local comercial',\n",
       "       'Lote', 'Oficina', 'Parqueadero'],\n",
       "      dtype='object')"
      ]
     },
     "execution_count": 473,
     "metadata": {},
     "output_type": "execute_result"
    }
   ],
   "source": [
    "X_train.columns"
   ]
  },
  {
   "cell_type": "code",
   "execution_count": 474,
   "metadata": {},
   "outputs": [],
   "source": [
    "# Creamos la variable target\n",
    "y_train = X_train.target\n",
    "X_train = X_train[['lat', 'lon','bathrooms','Apartamento','Casa','Finca', 'Otro', 'Local comercial','Lote','Oficina','Parqueadero',]]"
   ]
  },
  {
   "cell_type": "code",
   "execution_count": 475,
   "metadata": {},
   "outputs": [],
   "source": [
    "# Vamos a probar dos clasificadores: Random Forest y Gradient Boosting\n",
    "clasificadores = [RandomForestClassifier(random_state=45), GradientBoostingClassifier(random_state=5)]"
   ]
  },
  {
   "cell_type": "code",
   "execution_count": 476,
   "metadata": {},
   "outputs": [
    {
     "name": "stdout",
     "output_type": "stream",
     "text": [
      "***** RandomForestClassifier *****\n",
      "accuracy:  95.66  ±  0.00026\n",
      "recall:  90.44308509749872  ±  0.0\n",
      "***** GradientBoostingClassifier *****\n",
      "accuracy:  84.4  ±  0.00049\n",
      "recall:  51.71806343371962  ±  0.0\n"
     ]
    }
   ],
   "source": [
    "for clf in clasificadores:\n",
    "    name = clf.__class__.__name__\n",
    "    clf = Pipeline(steps=[('ss', StandardScaler()), ('clf', clf)])\n",
    "    _scoring = ['accuracy', 'recall']\n",
    "    results = cross_validate(estimator=clf,\n",
    "                        X=X_train,\n",
    "                        y=y_train,\n",
    "                        cv=5,\n",
    "                        scoring=_scoring,\n",
    "                        return_train_score=True)\n",
    "    print('*'*5,name,'*'*5) \n",
    "    print('accuracy: ', round(results['train_accuracy'].mean()*100,2),' ± ',round(results['train_accuracy'].std(),5))\n",
    "    print('recall: ', results['train_recall'].mean()*100, ' ± ', round(results['train_recall'].std(),2))"
   ]
  },
  {
   "cell_type": "markdown",
   "metadata": {},
   "source": [
    "A continuación realizaremos las predicciones:"
   ]
  },
  {
   "cell_type": "code",
   "execution_count": 477,
   "metadata": {},
   "outputs": [
    {
     "data": {
      "text/html": [
       "<div>\n",
       "<style scoped>\n",
       "    .dataframe tbody tr th:only-of-type {\n",
       "        vertical-align: middle;\n",
       "    }\n",
       "\n",
       "    .dataframe tbody tr th {\n",
       "        vertical-align: top;\n",
       "    }\n",
       "\n",
       "    .dataframe thead th {\n",
       "        text-align: right;\n",
       "    }\n",
       "</style>\n",
       "<table border=\"1\" class=\"dataframe\">\n",
       "  <thead>\n",
       "    <tr style=\"text-align: right;\">\n",
       "      <th></th>\n",
       "      <th>Unnamed: 0</th>\n",
       "      <th>id</th>\n",
       "      <th>ad_type</th>\n",
       "      <th>start_date</th>\n",
       "      <th>end_date</th>\n",
       "      <th>created_on</th>\n",
       "      <th>lat</th>\n",
       "      <th>lon</th>\n",
       "      <th>l1</th>\n",
       "      <th>l2</th>\n",
       "      <th>...</th>\n",
       "      <th>bathrooms</th>\n",
       "      <th>surface_total</th>\n",
       "      <th>surface_covered</th>\n",
       "      <th>currency</th>\n",
       "      <th>price_period</th>\n",
       "      <th>title</th>\n",
       "      <th>description</th>\n",
       "      <th>property_type</th>\n",
       "      <th>operation_type</th>\n",
       "      <th>geometry</th>\n",
       "    </tr>\n",
       "  </thead>\n",
       "  <tbody>\n",
       "    <tr>\n",
       "      <th>0</th>\n",
       "      <td>852569</td>\n",
       "      <td>pCiVu6rxpBq9dCZfYCXXgA==</td>\n",
       "      <td>Propiedad</td>\n",
       "      <td>2020-09-04</td>\n",
       "      <td>2020-09-12</td>\n",
       "      <td>2020-09-04</td>\n",
       "      <td>4.722000</td>\n",
       "      <td>-74.075000</td>\n",
       "      <td>Colombia</td>\n",
       "      <td>Cundinamarca</td>\n",
       "      <td>...</td>\n",
       "      <td>3.0</td>\n",
       "      <td>660.0</td>\n",
       "      <td>350.0</td>\n",
       "      <td>COP</td>\n",
       "      <td>NaN</td>\n",
       "      <td>Casa En Arriendo/venta En Bogota Sotileza Cod....</td>\n",
       "      <td>EXCLUSIVA CASA EN VENTA Y ARRIENDO, UBICADA EN...</td>\n",
       "      <td>Casa</td>\n",
       "      <td>Venta</td>\n",
       "      <td>POINT (-74.075 4.722)</td>\n",
       "    </tr>\n",
       "    <tr>\n",
       "      <th>1</th>\n",
       "      <td>121379</td>\n",
       "      <td>L0XSQ7mF1TWb1lHRg4n2+A==</td>\n",
       "      <td>Propiedad</td>\n",
       "      <td>2020-10-20</td>\n",
       "      <td>2020-10-20</td>\n",
       "      <td>2020-10-20</td>\n",
       "      <td>NaN</td>\n",
       "      <td>NaN</td>\n",
       "      <td>Colombia</td>\n",
       "      <td>Antioquia</td>\n",
       "      <td>...</td>\n",
       "      <td>3.0</td>\n",
       "      <td>NaN</td>\n",
       "      <td>NaN</td>\n",
       "      <td>COP</td>\n",
       "      <td>Mensual</td>\n",
       "      <td>SE VENDE APARTAMENTO EN EL SECTOR DE ZUÑIGA-EN...</td>\n",
       "      <td>PR 7555. Apartamento Duplex en unidad cerrada,...</td>\n",
       "      <td>Apartamento</td>\n",
       "      <td>Venta</td>\n",
       "      <td>POINT EMPTY</td>\n",
       "    </tr>\n",
       "    <tr>\n",
       "      <th>2</th>\n",
       "      <td>119504</td>\n",
       "      <td>FbWRxZOMNoUzVOLXgkum1A==</td>\n",
       "      <td>Propiedad</td>\n",
       "      <td>2020-10-20</td>\n",
       "      <td>2020-10-22</td>\n",
       "      <td>2020-10-20</td>\n",
       "      <td>6.259253</td>\n",
       "      <td>-75.628381</td>\n",
       "      <td>Colombia</td>\n",
       "      <td>Antioquia</td>\n",
       "      <td>...</td>\n",
       "      <td>1.0</td>\n",
       "      <td>NaN</td>\n",
       "      <td>NaN</td>\n",
       "      <td>COP</td>\n",
       "      <td>NaN</td>\n",
       "      <td>Casa Barata San Javier Solo por este mes</td>\n",
       "      <td>Casa compraventa escrituras en \\n proceso,sala...</td>\n",
       "      <td>Casa</td>\n",
       "      <td>Venta</td>\n",
       "      <td>POINT (-75.6283806 6.25925267)</td>\n",
       "    </tr>\n",
       "    <tr>\n",
       "      <th>3</th>\n",
       "      <td>227304</td>\n",
       "      <td>RUV1P+3UOmNdlJ9fBdWFyw==</td>\n",
       "      <td>Propiedad</td>\n",
       "      <td>2020-12-10</td>\n",
       "      <td>9999-12-31</td>\n",
       "      <td>2020-12-10</td>\n",
       "      <td>6.203000</td>\n",
       "      <td>-75.556000</td>\n",
       "      <td>Colombia</td>\n",
       "      <td>Antioquia</td>\n",
       "      <td>...</td>\n",
       "      <td>NaN</td>\n",
       "      <td>2793.0</td>\n",
       "      <td>NaN</td>\n",
       "      <td>COP</td>\n",
       "      <td>NaN</td>\n",
       "      <td>Lote En Venta En Medellin La Calera Cod. VRPR6330</td>\n",
       "      <td>CODIGO 6330LOTE PARA LA VENTA DE 2793MTS</td>\n",
       "      <td>Lote</td>\n",
       "      <td>Venta</td>\n",
       "      <td>POINT (-75.556 6.203)</td>\n",
       "    </tr>\n",
       "    <tr>\n",
       "      <th>4</th>\n",
       "      <td>228600</td>\n",
       "      <td>ifKutEAhyovuDNeYrFFV+A==</td>\n",
       "      <td>Propiedad</td>\n",
       "      <td>2020-12-10</td>\n",
       "      <td>2020-12-11</td>\n",
       "      <td>2020-12-10</td>\n",
       "      <td>NaN</td>\n",
       "      <td>NaN</td>\n",
       "      <td>Colombia</td>\n",
       "      <td>Antioquia</td>\n",
       "      <td>...</td>\n",
       "      <td>2.0</td>\n",
       "      <td>NaN</td>\n",
       "      <td>NaN</td>\n",
       "      <td>COP</td>\n",
       "      <td>NaN</td>\n",
       "      <td>Casa en Venta Ubicado en MEDELLIN</td>\n",
       "      <td>Codigo Inmueble 505457 Casa en venta en el sec...</td>\n",
       "      <td>Casa</td>\n",
       "      <td>Venta</td>\n",
       "      <td>POINT EMPTY</td>\n",
       "    </tr>\n",
       "  </tbody>\n",
       "</table>\n",
       "<p>5 rows × 26 columns</p>\n",
       "</div>"
      ],
      "text/plain": [
       "   Unnamed: 0                        id    ad_type  start_date    end_date  \\\n",
       "0      852569  pCiVu6rxpBq9dCZfYCXXgA==  Propiedad  2020-09-04  2020-09-12   \n",
       "1      121379  L0XSQ7mF1TWb1lHRg4n2+A==  Propiedad  2020-10-20  2020-10-20   \n",
       "2      119504  FbWRxZOMNoUzVOLXgkum1A==  Propiedad  2020-10-20  2020-10-22   \n",
       "3      227304  RUV1P+3UOmNdlJ9fBdWFyw==  Propiedad  2020-12-10  9999-12-31   \n",
       "4      228600  ifKutEAhyovuDNeYrFFV+A==  Propiedad  2020-12-10  2020-12-11   \n",
       "\n",
       "   created_on       lat        lon        l1            l2  ... bathrooms  \\\n",
       "0  2020-09-04  4.722000 -74.075000  Colombia  Cundinamarca  ...       3.0   \n",
       "1  2020-10-20       NaN        NaN  Colombia     Antioquia  ...       3.0   \n",
       "2  2020-10-20  6.259253 -75.628381  Colombia     Antioquia  ...       1.0   \n",
       "3  2020-12-10  6.203000 -75.556000  Colombia     Antioquia  ...       NaN   \n",
       "4  2020-12-10       NaN        NaN  Colombia     Antioquia  ...       2.0   \n",
       "\n",
       "  surface_total surface_covered currency  price_period  \\\n",
       "0         660.0           350.0      COP           NaN   \n",
       "1           NaN             NaN      COP       Mensual   \n",
       "2           NaN             NaN      COP           NaN   \n",
       "3        2793.0             NaN      COP           NaN   \n",
       "4           NaN             NaN      COP           NaN   \n",
       "\n",
       "                                               title  \\\n",
       "0  Casa En Arriendo/venta En Bogota Sotileza Cod....   \n",
       "1  SE VENDE APARTAMENTO EN EL SECTOR DE ZUÑIGA-EN...   \n",
       "2           Casa Barata San Javier Solo por este mes   \n",
       "3  Lote En Venta En Medellin La Calera Cod. VRPR6330   \n",
       "4                  Casa en Venta Ubicado en MEDELLIN   \n",
       "\n",
       "                                         description  property_type  \\\n",
       "0  EXCLUSIVA CASA EN VENTA Y ARRIENDO, UBICADA EN...           Casa   \n",
       "1  PR 7555. Apartamento Duplex en unidad cerrada,...    Apartamento   \n",
       "2  Casa compraventa escrituras en \\n proceso,sala...           Casa   \n",
       "3           CODIGO 6330LOTE PARA LA VENTA DE 2793MTS           Lote   \n",
       "4  Codigo Inmueble 505457 Casa en venta en el sec...           Casa   \n",
       "\n",
       "   operation_type                        geometry  \n",
       "0           Venta           POINT (-74.075 4.722)  \n",
       "1           Venta                     POINT EMPTY  \n",
       "2           Venta  POINT (-75.6283806 6.25925267)  \n",
       "3           Venta           POINT (-75.556 6.203)  \n",
       "4           Venta                     POINT EMPTY  \n",
       "\n",
       "[5 rows x 26 columns]"
      ]
     },
     "execution_count": 477,
     "metadata": {},
     "output_type": "execute_result"
    }
   ],
   "source": [
    "# Creamos el dataframe de prueba.\n",
    "X_test = pd.read_csv('datasets/properties_colombia_test.csv')\n",
    "X_test.head()"
   ]
  },
  {
   "cell_type": "code",
   "execution_count": 478,
   "metadata": {},
   "outputs": [
    {
     "data": {
      "text/plain": [
       "Index(['lat', 'lon', 'l2', 'bathrooms', 'description', 'property_type'], dtype='object')"
      ]
     },
     "execution_count": 478,
     "metadata": {},
     "output_type": "execute_result"
    }
   ],
   "source": [
    "# Eliminando las columnas que no se utilizan.\n",
    "X_test.drop(['Unnamed: 0', 'id', 'ad_type', 'start_date', 'end_date', 'created_on',\n",
    "            'l1', 'l3', 'l4', 'l5', 'l6', 'rooms', 'bedrooms',\n",
    "            'surface_total', 'surface_covered', 'currency', 'price_period', \n",
    "            'title', 'operation_type', 'geometry'], axis='columns', inplace=True)\n",
    "\n",
    "X_test.columns"
   ]
  },
  {
   "cell_type": "code",
   "execution_count": 480,
   "metadata": {},
   "outputs": [
    {
     "name": "stdout",
     "output_type": "stream",
     "text": [
      "<class 'pandas.core.frame.DataFrame'>\n",
      "RangeIndex: 65850 entries, 0 to 65849\n",
      "Data columns (total 11 columns):\n",
      " #   Column           Non-Null Count  Dtype  \n",
      "---  ------           --------------  -----  \n",
      " 0   lat              65850 non-null  float64\n",
      " 1   lon              65850 non-null  float64\n",
      " 2   bathrooms        65850 non-null  int32  \n",
      " 3   Apartamento      65850 non-null  uint8  \n",
      " 4   Casa             65850 non-null  uint8  \n",
      " 5   Finca            65850 non-null  uint8  \n",
      " 6   Local comercial  65850 non-null  uint8  \n",
      " 7   Lote             65850 non-null  uint8  \n",
      " 8   Oficina          65850 non-null  uint8  \n",
      " 9   Otro             65850 non-null  uint8  \n",
      " 10  Parqueadero      65850 non-null  uint8  \n",
      "dtypes: float64(2), int32(1), uint8(8)\n",
      "memory usage: 1.8 MB\n"
     ]
    }
   ],
   "source": [
    "# Realizando los cambios necesarios en el dataframe\n",
    "f_lat_lon(X_test)\n",
    "X_test = numero_banios(X_test)\n",
    "X_test[['Apartamento','Casa','Finca','Local comercial','Lote','Oficina', 'Otro', 'Parqueadero']] = pd.get_dummies(X_test.property_type)\n",
    "X_test.drop('property_type',axis='columns', inplace=True)\n",
    "X_test.drop(['l2','description'], axis='columns', inplace=True)\n",
    "X_test.info()"
   ]
  },
  {
   "cell_type": "code",
   "execution_count": 481,
   "metadata": {},
   "outputs": [
    {
     "data": {
      "text/plain": [
       "Pipeline(steps=[('ss', StandardScaler()),\n",
       "                ('clf', RandomForestClassifier(random_state=45))])"
      ]
     },
     "execution_count": 481,
     "metadata": {},
     "output_type": "execute_result"
    }
   ],
   "source": [
    "# Entrenando al modelo\n",
    "clf = Pipeline(steps=[('ss', StandardScaler()), ('clf', RandomForestClassifier(random_state=45))])\n",
    "clf.fit(X_train,y_train)"
   ]
  },
  {
   "cell_type": "code",
   "execution_count": null,
   "metadata": {},
   "outputs": [],
   "source": [
    "# Guardamos los valores obtenidos en un array\n",
    "pred = clf.predict(X_test)"
   ]
  },
  {
   "cell_type": "code",
   "execution_count": null,
   "metadata": {},
   "outputs": [],
   "source": [
    "pred"
   ]
  },
  {
   "cell_type": "code",
   "execution_count": null,
   "metadata": {},
   "outputs": [],
   "source": [
    "# Exportamos los valores en un csv\n",
    "DF = pd.DataFrame(pred)\n",
    "DF.to_csv(\"gusofficial.csv\", header='pred', index=False)"
   ]
  }
 ],
 "metadata": {
  "kernelspec": {
   "display_name": "Python 3.9.13 ('base')",
   "language": "python",
   "name": "python3"
  },
  "language_info": {
   "codemirror_mode": {
    "name": "ipython",
    "version": 3
   },
   "file_extension": ".py",
   "mimetype": "text/x-python",
   "name": "python",
   "nbconvert_exporter": "python",
   "pygments_lexer": "ipython3",
   "version": "3.9.13"
  },
  "orig_nbformat": 4,
  "vscode": {
   "interpreter": {
    "hash": "63fb93197950fba19f66b18feb2259c463d2d908ab161592ace11a71c3a88d5a"
   }
  }
 },
 "nbformat": 4,
 "nbformat_minor": 2
}
